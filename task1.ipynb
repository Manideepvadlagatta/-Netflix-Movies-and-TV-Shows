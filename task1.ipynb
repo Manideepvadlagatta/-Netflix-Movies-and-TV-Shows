{
 "cells": [
  {
   "cell_type": "code",
   "execution_count": 26,
   "id": "cef577f7-722f-4ff3-87c8-dd69ee5fd4f6",
   "metadata": {},
   "outputs": [
    {
     "name": "stdout",
     "output_type": "stream",
     "text": [
      "Before: (8807, 12), After: (8807, 12), Duplicates Removed: 0\n"
     ]
    },
    {
     "data": {
      "text/plain": [
       "show_id         0\n",
       "type            0\n",
       "title           0\n",
       "director        0\n",
       "cast            0\n",
       "country         0\n",
       "date_added      0\n",
       "release_year    0\n",
       "rating          0\n",
       "duration        0\n",
       "listed_in       0\n",
       "description     0\n",
       "dtype: int64"
      ]
     },
     "execution_count": 26,
     "metadata": {},
     "output_type": "execute_result"
    }
   ],
   "source": [
    "import pandas as pd\n",
    "df=pd.read_csv(\"netflix_titles.csv\")\n",
    "df.isnull().sum()\n",
    "df.fillna({\"director\" : \"Unknown\"},inplace=True)\n",
    "df.fillna({\"cast\" : \"Unknown\"},inplace=True)\n",
    "df.fillna({\"country\" : \"Not Specified\"},inplace=True)\n",
    "df.fillna({\"rating\" : \"Not rated\"},inplace=True)\n",
    "df['date_added'] = pd.to_datetime(df['date_added'], format='%B %d, %Y', errors='coerce')\n",
    "df['date_added'] = df['date_added'].bfill()\n",
    "df['date_added'] = df['date_added'].dt.strftime('%m-%d-%Y')\n",
    "df.fillna({\"duration\" : \"Not Specified\"},inplace=True)\n",
    "df['type'] = df['type'].str.title().str.strip()\n",
    "df['country'] = df['country'].str.title().str.strip()\n",
    "before_shape = df.shape\n",
    "df.drop_duplicates(inplace=True)\n",
    "after_shape = df.shape\n",
    "\n",
    "print(f\"Before: {before_shape}, After: {after_shape}, Duplicates Removed: {before_shape[0] - after_shape[0]}\")\n",
    "df.to_csv(\"netflix_titles.csv\", index=False, sep='\\t', encoding='utf-8')\n",
    "df.isnull().sum()"
   ]
  },
  {
   "cell_type": "code",
   "execution_count": null,
   "id": "d320ab4e-d324-49a6-ae62-676338ef79f5",
   "metadata": {},
   "outputs": [],
   "source": []
  },
  {
   "cell_type": "code",
   "execution_count": null,
   "id": "59a33a69-a7ff-41bf-a91e-c4b3b20ca44c",
   "metadata": {},
   "outputs": [],
   "source": []
  }
 ],
 "metadata": {
  "kernelspec": {
   "display_name": "Python [conda env:base] *",
   "language": "python",
   "name": "conda-base-py"
  },
  "language_info": {
   "codemirror_mode": {
    "name": "ipython",
    "version": 3
   },
   "file_extension": ".py",
   "mimetype": "text/x-python",
   "name": "python",
   "nbconvert_exporter": "python",
   "pygments_lexer": "ipython3",
   "version": "3.12.7"
  }
 },
 "nbformat": 4,
 "nbformat_minor": 5
}
